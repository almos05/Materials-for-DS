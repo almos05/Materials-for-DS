{
  "nbformat": 4,
  "nbformat_minor": 0,
  "metadata": {
    "colab": {
      "name": "example NN.ipynb",
      "provenance": []
    },
    "kernelspec": {
      "name": "python3",
      "display_name": "Python 3"
    },
    "language_info": {
      "name": "python"
    }
  },
  "cells": [
    {
      "cell_type": "markdown",
      "metadata": {
        "id": "Ql2emSpoOKQU"
      },
      "source": [
        "# Многомерный backpropagation\n",
        "\n",
        "###  Степик Академия. Математика для Data Science. Линейная алгебра.\n"
      ]
    },
    {
      "cell_type": "code",
      "metadata": {
        "id": "Buq4DAUts7l0"
      },
      "source": [
        "from math import tanh"
      ],
      "execution_count": null,
      "outputs": []
    },
    {
      "cell_type": "markdown",
      "metadata": {
        "id": "tFQk3NTVymbR"
      },
      "source": [
        "Инициализируем\n",
        "\n",
        "* Входные данные $x$\n",
        "* Ответ $y$\n",
        "* Веса нейросети $W, U$ и $V$\n",
        "* Функцию потерь $L$ — среднеквадратичная ошибка\n",
        "* learning rate\n",
        "\n",
        "**Важный комментарий.** Ниже веса заданы в виде достаточно странной конструкции. Причина этого следующая: сначала появился урок на Степик с 1-индексацией, а потом ноутбук с программистской 0-индексацией по умолчанию. В общем, можете полагаться, что `W(2, 2)` в коде — это $W_{22}$ на Степике. Аналогично для других весов и состояний нейронов. В будущем приведем все к одной индексации.\n",
        "\n"
      ]
    },
    {
      "cell_type": "code",
      "metadata": {
        "id": "Sq0WRhGDthGi"
      },
      "source": [
        "def x(i):\n",
        "    x_indexing_from_0 = (1, 2)\n",
        "    return x_indexing_from_0[i - 1]\n",
        "\n",
        "y = 5\n",
        "\n",
        "def W(i, j):\n",
        "    W_indexing_from_0 = ((-1, 1), (1, 1))\n",
        "    return W_indexing_from_0[i - 1][j - 1]\n",
        "\n",
        "def U(i, j):\n",
        "    U_indexing_from_0 = ((2, -4), (-0.5, 1))\n",
        "    return U_indexing_from_0[i - 1][j - 1]\n",
        "\n",
        "def V(i, j):\n",
        "    V_indexing_from_0 = ((1,), (-1,))\n",
        "    return V_indexing_from_0[i - 1][j - 1]\n",
        "\n",
        "\n",
        "def L(y, y_pred):\n",
        "    return (y_pred - y) ** 2 # MSE\n",
        "\n",
        "lr = 0.1"
      ],
      "execution_count": null,
      "outputs": []
    },
    {
      "cell_type": "markdown",
      "metadata": {
        "id": "AohNMcF1zOZ5"
      },
      "source": [
        "# Прямой проход\n",
        "\n",
        "\n",
        "Вычисляем состояния нейронов на первом слое"
      ]
    },
    {
      "cell_type": "code",
      "metadata": {
        "id": "bAaZBkYhuMIb"
      },
      "source": [
        "z1 = tanh(W(1, 1) * x(1) + W(2, 1) * x(2))\n",
        "z2 = tanh(W(1, 2) * x(1) + W(2, 2) * x(2))\n",
        "\n",
        "def z(i):\n",
        "    z_indexing_from_0 = (z1, z2)\n",
        "    return z_indexing_from_0[i - 1]"
      ],
      "execution_count": null,
      "outputs": []
    },
    {
      "cell_type": "markdown",
      "metadata": {
        "id": "ep7Dmmn8zTQS"
      },
      "source": [
        "Вычисляем состояния нейронов на втором слое"
      ]
    },
    {
      "cell_type": "code",
      "metadata": {
        "id": "-2mJoKk6vE9p"
      },
      "source": [
        "q1 = tanh(U(1, 1) * z(1) + U(2, 1) * z(2))\n",
        "q2 = tanh(U(1, 2) * z(1) + U(2, 2) * z(2))\n",
        "\n",
        "def q(i):\n",
        "    q_indexing_from_0 = (q1, q2)\n",
        "    return q_indexing_from_0[i - 1]"
      ],
      "execution_count": null,
      "outputs": []
    },
    {
      "cell_type": "markdown",
      "metadata": {
        "id": "4E_PCitczZ6M"
      },
      "source": [
        "Вычисляем ответ нейросети"
      ]
    },
    {
      "cell_type": "code",
      "metadata": {
        "id": "UXmPpdm6xRUC"
      },
      "source": [
        "y_pred = V(1, 1) * q(1) + V(2, 1) * q(2)"
      ],
      "execution_count": null,
      "outputs": []
    },
    {
      "cell_type": "markdown",
      "metadata": {
        "id": "i8T_cxYl1CmB"
      },
      "source": [
        "# Обратный проход\n",
        "\n",
        "### Подготовка"
      ]
    },
    {
      "cell_type": "code",
      "metadata": {
        "colab": {
          "base_uri": "https://localhost:8080/"
        },
        "id": "o1eq1ukfQ8ml",
        "outputId": "f3d7af90-add6-4dfe-d088-636b5aa9d1c8"
      },
      "source": [
        "L_partial_y_pred = 2 * (y_pred - y)\n",
        "L_partial_y_pred"
      ],
      "execution_count": null,
      "outputs": [
        {
          "output_type": "execute_result",
          "data": {
            "text/plain": [
              "-6.520716153538367"
            ]
          },
          "metadata": {
            "tags": []
          },
          "execution_count": 6
        }
      ]
    },
    {
      "cell_type": "markdown",
      "metadata": {
        "id": "2nYDLf1vRrfo"
      },
      "source": [
        "### Последний (третий) слой\n",
        "\n",
        "**Пункт 1.** Вычисляем обратные частные производные. Тут нам понадобится уже вычисленное значение $L'_{\\hat y}.$ Также, обратите внимание, что сюда нужно подставлять $q_1, q_2$ и $\\hat y$ вычисленные при прямом проходе."
      ]
    },
    {
      "cell_type": "code",
      "metadata": {
        "colab": {
          "base_uri": "https://localhost:8080/"
        },
        "id": "_UGyCtcw0owe",
        "outputId": "ae592476-755a-41b8-ed12-1b8eb78872ad"
      },
      "source": [
        "L_partial_V_11 = L_partial_y_pred * q(1)\n",
        "L_partial_V_11"
      ],
      "execution_count": null,
      "outputs": [
        {
          "output_type": "execute_result",
          "data": {
            "text/plain": [
              "-5.035050768239443"
            ]
          },
          "metadata": {
            "tags": []
          },
          "execution_count": 7
        }
      ]
    },
    {
      "cell_type": "code",
      "metadata": {
        "id": "vWWpmI8RLSri"
      },
      "source": [
        "L_partial_V_21 = None # замените None на нужное выражение \n",
        "L_partial_V_21"
      ],
      "execution_count": null,
      "outputs": []
    },
    {
      "cell_type": "markdown",
      "metadata": {
        "id": "FnNmdu6tkIlf"
      },
      "source": [
        "**Пункт 2.** Вычисляем и запоминаем прямые частные производные функции потерь $L$ по предпоследнему слою, то есть по $q_1$ и $q_2.$ Они понадобятся при обработке следующего с конца слоя."
      ]
    },
    {
      "cell_type": "code",
      "metadata": {
        "colab": {
          "base_uri": "https://localhost:8080/"
        },
        "id": "UbdtpJ0M1Q7Z",
        "outputId": "b4a5684d-3612-42dd-a05a-efafa526ce2d"
      },
      "source": [
        "L_partial_q_1 = L_partial_y_pred * V(1, 1)\n",
        "L_partial_q_1"
      ],
      "execution_count": null,
      "outputs": [
        {
          "output_type": "execute_result",
          "data": {
            "text/plain": [
              "-6.520716153538367"
            ]
          },
          "metadata": {
            "tags": []
          },
          "execution_count": 8
        }
      ]
    },
    {
      "cell_type": "code",
      "metadata": {
        "id": "_8lS7ZT9GNAZ",
        "colab": {
          "base_uri": "https://localhost:8080/"
        },
        "outputId": "736112d6-cfeb-44d1-8a32-fc69b3f53884"
      },
      "source": [
        "L_partial_q_2 = L_partial_y_pred * V(2, 1)\n",
        "L_partial_q_2"
      ],
      "execution_count": null,
      "outputs": [
        {
          "output_type": "execute_result",
          "data": {
            "text/plain": [
              "6.520716153538367"
            ]
          },
          "metadata": {
            "tags": []
          },
          "execution_count": 9
        }
      ]
    },
    {
      "cell_type": "markdown",
      "metadata": {
        "id": "eWm664UDluA5"
      },
      "source": [
        "**Пункт 3.** Теперь обновим теперь веса последнего слоя $v_{11}$ и $v_{21}.$ Заметьте, что если поменять пункты 2 и 3 местами, то значение в пункте 2 получится другое.\n",
        "\n",
        "**Важный комментарий.** Реально в коде ниже веса не обновляются, из-за того что текущее представление весов очень корявое. Но предствляйте, что как будто происходит присваивание. "
      ]
    },
    {
      "cell_type": "code",
      "metadata": {
        "colab": {
          "base_uri": "https://localhost:8080/"
        },
        "id": "m8fa0IAw5_mW",
        "outputId": "5ace639b-6364-460d-cc2f-47fde145b268"
      },
      "source": [
        "V_11_updated = V(1, 1) - lr * L_partial_V_11\n",
        "V_11_updated"
      ],
      "execution_count": null,
      "outputs": [
        {
          "output_type": "execute_result",
          "data": {
            "text/plain": [
              "1.5035050768239442"
            ]
          },
          "metadata": {
            "tags": []
          },
          "execution_count": 10
        }
      ]
    },
    {
      "cell_type": "code",
      "metadata": {
        "id": "Y9mkLSr7K-ET"
      },
      "source": [
        "V_21_updated = None # замените None на нужное выражение \n",
        "V_21_updated"
      ],
      "execution_count": null,
      "outputs": []
    },
    {
      "cell_type": "markdown",
      "metadata": {
        "id": "eMZuqYtWwFqJ"
      },
      "source": [
        "### Предпоследний (второй) слой\n",
        "\n",
        "**Пункт 1.** Вычисляем обратные частные производные $L$ по весам $U.$"
      ]
    },
    {
      "cell_type": "code",
      "metadata": {
        "colab": {
          "base_uri": "https://localhost:8080/"
        },
        "id": "UTXLRZu1Mmxe",
        "outputId": "7429df4c-ad6b-4ebc-a6de-9be2ec55c0a9"
      },
      "source": [
        "L_partial_U_21 = L_partial_q_1 * (1 - (tanh(U(1, 1) * z(1) + U(2, 1) * z(2))) ** 2) * z(2)\n",
        "L_partial_U_21"
      ],
      "execution_count": null,
      "outputs": [
        {
          "output_type": "execute_result",
          "data": {
            "text/plain": [
              "-2.6198200490401398"
            ]
          },
          "metadata": {
            "tags": []
          },
          "execution_count": 21
        }
      ]
    },
    {
      "cell_type": "code",
      "metadata": {
        "id": "bwMWAIIwOh8n"
      },
      "source": [
        "L_partial_U_11 = None # замените None на нужное выражение\n",
        "L_partial_U_11"
      ],
      "execution_count": null,
      "outputs": []
    },
    {
      "cell_type": "code",
      "metadata": {
        "id": "AHEShOTROhd7"
      },
      "source": [
        "L_partial_U_12 = None # замените None на нужное выражение\n",
        "L_partial_U_12"
      ],
      "execution_count": null,
      "outputs": []
    },
    {
      "cell_type": "code",
      "metadata": {
        "id": "utNF_n0WOhOS"
      },
      "source": [
        "L_partial_U_22 = None # замените None на нужное выражение\n",
        "L_partial_U_22"
      ],
      "execution_count": null,
      "outputs": []
    },
    {
      "cell_type": "markdown",
      "metadata": {
        "id": "uptx5b4ozg3X"
      },
      "source": [
        "**Пункт 2.** Рассмотрим векторный случай, тут этого не будет.\n",
        "\n",
        "**Пункт 3.** Обновляем веса $U.$ Тоже не по-настоящему обновляем, как и выше.\n"
      ]
    },
    {
      "cell_type": "code",
      "metadata": {
        "colab": {
          "base_uri": "https://localhost:8080/"
        },
        "id": "7c2g09VVwtqK",
        "outputId": "ad57ccd3-487e-4c7a-a7ce-6a6756a28c18"
      },
      "source": [
        "U_21_updated = U(2, 1) - lr * L_partial_U_21\n",
        "U_21_updated"
      ],
      "execution_count": null,
      "outputs": [
        {
          "output_type": "execute_result",
          "data": {
            "text/plain": [
              "-0.23801799509598603"
            ]
          },
          "metadata": {
            "tags": []
          },
          "execution_count": 23
        }
      ]
    },
    {
      "cell_type": "code",
      "metadata": {
        "id": "gHdc31uS0KDF"
      },
      "source": [
        "U_11_updated = None # замените None на нужное выражение\n",
        "U_11_updated"
      ],
      "execution_count": null,
      "outputs": []
    },
    {
      "cell_type": "code",
      "metadata": {
        "id": "cPc4JwgJMe34"
      },
      "source": [
        "U_12_updated = None # замените None на нужное выражение\n",
        "U_12_updated"
      ],
      "execution_count": null,
      "outputs": []
    },
    {
      "cell_type": "code",
      "metadata": {
        "id": "Go6W0LL7NDdq"
      },
      "source": [
        "U_22_updated = None # замените None на нужное выражение\n",
        "U_22_updated"
      ],
      "execution_count": null,
      "outputs": []
    }
  ]
}